{
 "cells": [
  {
   "cell_type": "markdown",
   "metadata": {},
   "source": [
    "## Grishma Parajuli\n",
    "### Math T480 HW5\n",
    "\n",
    "### Problem 1\n",
    "Write a code to perform the power iteration to find the largest eigenvalue and eigenvector of a matrix. Try it on a random symmetric 100x100 matrix."
   ]
  },
  {
   "cell_type": "code",
   "execution_count": 10,
   "metadata": {},
   "outputs": [],
   "source": [
    "import numpy as np\n",
    "from numpy import *\n",
    "import numpy.linalg as la"
   ]
  },
  {
   "cell_type": "code",
   "execution_count": 39,
   "metadata": {},
   "outputs": [
    {
     "name": "stdout",
     "output_type": "stream",
     "text": [
      "eigen value: \n",
      " 50.08094047555682\n",
      "eigen vector: \n",
      " [0.10181463 0.10358791 0.10588895 0.10161941 0.10425204 0.09321776\n",
      " 0.09077771 0.10067442 0.09560297 0.10001448 0.10828774 0.1025356\n",
      " 0.10149895 0.09482176 0.10626575 0.09775622 0.10130747 0.09663803\n",
      " 0.09996272 0.10465271 0.09815835 0.1032413  0.10354932 0.09551386\n",
      " 0.09273706 0.09994459 0.10558212 0.10317687 0.09387544 0.09187442\n",
      " 0.09725348 0.09702588 0.09946755 0.10147112 0.09395257 0.09970584\n",
      " 0.10229224 0.09719812 0.10129429 0.10439813 0.10082494 0.10136013\n",
      " 0.10136492 0.0989508  0.10282272 0.10208533 0.09498878 0.10184885\n",
      " 0.10265105 0.10104193 0.09653996 0.10182573 0.09206858 0.09919113\n",
      " 0.09554456 0.09279132 0.09563096 0.09627272 0.10260334 0.10259312\n",
      " 0.10742572 0.1005699  0.10289937 0.09764961 0.10217659 0.10169163\n",
      " 0.09793937 0.09579966 0.10418209 0.10864228 0.09429585 0.10660828\n",
      " 0.09483561 0.09764135 0.10858683 0.10052382 0.09695041 0.09912922\n",
      " 0.09762604 0.10415122 0.10156964 0.0965834  0.10000781 0.09666843\n",
      " 0.10478004 0.10159212 0.10186911 0.10484193 0.09667566 0.09947045\n",
      " 0.10026959 0.09481017 0.10088193 0.09898395 0.09577956 0.10032162\n",
      " 0.10021207 0.09797112 0.10270337 0.10106466]\n"
     ]
    }
   ],
   "source": [
    "import numpy as np\n",
    "\n",
    "def eigenvalue(A, v):\n",
    "    Av = A.dot(v)\n",
    "    return v.dot(Av)\n",
    "\n",
    "def power_iteration(A, v_k, n: int):\n",
    "\n",
    "    for _ in range(n):\n",
    "        # calculate the matrix-by-vector product Av\n",
    "        v_k1 = np.dot(A, v_k)\n",
    "\n",
    "        # calculate the norm\n",
    "        v_k1_norm = np.linalg.norm(v_k1)\n",
    "\n",
    "        # re normalize the vector\n",
    "        v_k = v_k1 / v_k1_norm\n",
    "        #calculating eigen value for Av_k\n",
    "        e_value = eigenvalue(A, v_k)\n",
    "\n",
    "    return  e_value, v_k\n",
    "\n",
    "\n",
    "#creating a random symmetric 100x100 vector\n",
    "m = 100\n",
    "a = np.random.random((m,m))\n",
    "a_s = (a + a.T)/2\n",
    "\n",
    "#Define A\n",
    "A = np.array(a_s)\n",
    "\n",
    "#choose a random vector\n",
    "v_k = np.random.rand(A.shape[1])\n",
    "\n",
    "#calling the power method\n",
    "e1, v1 = power_iteration(A, v_k, m)\n",
    "print('eigen value: \\n', e1)\n",
    "print('eigen vector: \\n', v1)"
   ]
  },
  {
   "cell_type": "markdown",
   "metadata": {},
   "source": [
    "### Problem 2\n",
    "Write a code to perform Rayleigh quotient iteration. Try it on the same matrix."
   ]
  },
  {
   "cell_type": "code",
   "execution_count": 40,
   "metadata": {},
   "outputs": [
    {
     "name": "stdout",
     "output_type": "stream",
     "text": [
      "eigen value: \n",
      " 50.08094047555682\n",
      "eigen vector: \n",
      " [0.10181463 0.10358791 0.10588895 0.10161941 0.10425204 0.09321776\n",
      " 0.09077771 0.10067442 0.09560297 0.10001448 0.10828774 0.1025356\n",
      " 0.10149895 0.09482176 0.10626575 0.09775622 0.10130747 0.09663803\n",
      " 0.09996272 0.10465271 0.09815835 0.1032413  0.10354932 0.09551386\n",
      " 0.09273706 0.09994459 0.10558212 0.10317687 0.09387544 0.09187442\n",
      " 0.09725348 0.09702588 0.09946755 0.10147112 0.09395257 0.09970584\n",
      " 0.10229224 0.09719812 0.10129429 0.10439813 0.10082494 0.10136013\n",
      " 0.10136492 0.0989508  0.10282272 0.10208533 0.09498878 0.10184885\n",
      " 0.10265105 0.10104193 0.09653996 0.10182573 0.09206858 0.09919113\n",
      " 0.09554456 0.09279132 0.09563096 0.09627272 0.10260334 0.10259312\n",
      " 0.10742572 0.1005699  0.10289937 0.09764961 0.10217659 0.10169163\n",
      " 0.09793937 0.09579966 0.10418209 0.10864228 0.09429585 0.10660828\n",
      " 0.09483561 0.09764135 0.10858683 0.10052382 0.09695041 0.09912922\n",
      " 0.09762604 0.10415122 0.10156964 0.0965834  0.10000781 0.09666843\n",
      " 0.10478004 0.10159212 0.10186911 0.10484193 0.09667566 0.09947045\n",
      " 0.10026959 0.09481017 0.10088193 0.09898395 0.09577956 0.10032162\n",
      " 0.10021207 0.09797112 0.10270337 0.10106466]\n"
     ]
    }
   ],
   "source": [
    "def raleigh_quotient( A, v, k):\n",
    "    # Identity vector\n",
    "    I = eye(A.shape[0])\n",
    "    #corresponding Rayleigh quotient\n",
    "    lam = dot(v.T,dot(A,v1))\n",
    "    \n",
    "    for j in range(k):\n",
    "        w = linalg.solve(A-lam*I,v) # inverse power iteration\n",
    "        v = w/linalg.norm(w) # normalize\n",
    "        lam = dot(v.T,dot(A,v)) # Rayleigh quotient\n",
    "    return lam, v\n",
    "\n",
    "# main function\n",
    "m2 =100\n",
    "\n",
    "#calling raleigh quotient iteration\n",
    "e2, v2 = raleigh_quotient( A, v_k, m2) #A and v_k from question1\n",
    "print('eigen value: \\n', e2)\n",
    "print('eigen vector: \\n', v2)"
   ]
  },
  {
   "cell_type": "markdown",
   "metadata": {},
   "source": [
    "### Problem 3\n",
    "Write a code to do the QR algorithm without shifts. Use a built-in QR factorization program. Try it on the same matrix."
   ]
  },
  {
   "cell_type": "code",
   "execution_count": 44,
   "metadata": {},
   "outputs": [
    {
     "name": "stdout",
     "output_type": "stream",
     "text": [
      "[[ 5.00809405e+001  3.66139760e-015  2.69756032e-015 ...  1.48615653e-015\n",
      "   4.95675249e-015 -5.88547702e-015]\n",
      " [ 0.00000000e+000  3.87581773e+000  4.34459615e-012 ... -1.07427299e-016\n",
      "   2.05757694e-016  1.21900081e-016]\n",
      " [ 0.00000000e+000  4.34292769e-012  3.78468927e+000 ... -1.45664368e-016\n",
      "   1.02054760e-016  2.16135395e-016]\n",
      " ...\n",
      " [ 0.00000000e+000  0.00000000e+000  0.00000000e+000 ...  9.48857902e-002\n",
      "  -1.75099606e-016  3.73090216e-016]\n",
      " [ 0.00000000e+000  0.00000000e+000  0.00000000e+000 ...  3.41576265e-138\n",
      "  -6.91458023e-002 -2.20345037e-016]\n",
      " [ 0.00000000e+000  0.00000000e+000  0.00000000e+000 ...  0.00000000e+000\n",
      "   0.00000000e+000  2.92275440e-002]]\n"
     ]
    }
   ],
   "source": [
    "#Here I am getting an upper triangular matrix with first values as eigen above in q1 and q2\n",
    "# unshift QR algorithm:\n",
    "def unshifted_QR(A_s, k):\n",
    "    for i in range (k):\n",
    "        (Q, R) = la.qr(A_s)\n",
    "        Ax = dot(R,Q)\n",
    "        A_s = Ax\n",
    "    return A_s\n",
    "\n",
    "m3 = 1000\n",
    "print(unshifted_QR(A, m3))"
   ]
  },
  {
   "cell_type": "markdown",
   "metadata": {},
   "source": [
    "### Problem 4\n",
    "For some random 10 × 10 symmetric matrix A, starting with b = e1, generate the Krylov matrix K for n = 10. Use a built in code to generate its QR factorization, K = QR. Demonstrate numerically that Q∗AQ is tridiagonal."
   ]
  },
  {
   "cell_type": "code",
   "execution_count": 145,
   "metadata": {},
   "outputs": [],
   "source": [
    "def Arnoldi(A, b, n):\n",
    "    Q = np.zeros((n,n))\n",
    "    R = (b/np.linalg.norm(b))[0,0]\n",
    "    Q[:,0] = R\n",
    "    H = np.zeros((n, n))\n",
    "    \n",
    "    for j in range(n):\n",
    "        V = dot(A, Q[:,j])\n",
    "        \n",
    "        for i in range (1, j+1):\n",
    "            H[i,j] = dot(Q[:,i].T, V)\n",
    "            V = V - dot(H[i,j],Q[i])\n",
    "        if j+1 < n:\n",
    "            H[j+1,j] = np.linalg.norm(V)\n",
    "            Q[:,j+1] = V/H[j+1,j]\n",
    "    return Q"
   ]
  },
  {
   "cell_type": "code",
   "execution_count": 146,
   "metadata": {},
   "outputs": [
    {
     "name": "stdout",
     "output_type": "stream",
     "text": [
      "[[ 5.19521737  5.23211195  4.53983612  2.51989777 -0.16196726 -2.48100432\n",
      "   1.52948896  1.13180722 -2.08688011  3.16938022]\n",
      " [ 5.23211195  5.26779212  4.55156705  2.49053585 -0.21928566 -2.52720186\n",
      "   1.58461856  1.10099389 -2.11440796  3.20479663]\n",
      " [ 4.53983612  4.55156705  4.05606022  2.34353665  0.01374072 -1.9013253\n",
      "   1.20494095  0.97367366 -1.75432438  2.68964573]\n",
      " [ 2.51989777  2.49053585  2.34353665  1.50158072  0.26509778 -0.6513754\n",
      "   0.47967837  0.63938711 -0.82879774  1.37128191]\n",
      " [-0.16196726 -0.21928566  0.01374072  0.26509778  0.44507173  0.72451419\n",
      "  -0.3723596   0.16113911  0.2981006  -0.29586323]\n",
      " [-2.48100432 -2.52720186 -1.9013253  -0.6513754   0.72451419  1.66875359\n",
      "  -1.19730755  0.07392677  1.3386601  -1.79166717]\n",
      " [ 1.52948896  1.58461856  1.20494095  0.47967837 -0.3723596  -1.19730755\n",
      "   0.74226753  0.12045929 -0.6609635   0.97291253]\n",
      " [ 1.13180722  1.10099389  0.97367366  0.63938711  0.16113911  0.07392677\n",
      "   0.12045929  0.2156375  -0.18785019  0.50688428]\n",
      " [-2.08688011 -2.11440796 -1.75432438 -0.82879774  0.2981006   1.3386601\n",
      "  -0.6609635  -0.18785019  0.71592434 -1.14105545]\n",
      " [ 3.16938022  3.20479663  2.68964573  1.37128191 -0.29586323 -1.79166717\n",
      "   0.97291253  0.50688428 -1.14105545  1.80829594]]\n"
     ]
    }
   ],
   "source": [
    "m = 10\n",
    "a = np.random.random((m,m))\n",
    "a_s = (a + a.T)/2\n",
    "\n",
    "A = np.array(a_s)\n",
    "# b= e1\n",
    "b = np.ones((10,1))\n",
    "#print (b)\n",
    "n = 10\n",
    "Q = Arnoldi(A, b, n)\n",
    "#print(Q)\n",
    "print(dot(Q.T,dot(A, Q)))"
   ]
  }
 ],
 "metadata": {
  "kernelspec": {
   "display_name": "Python 3",
   "language": "python",
   "name": "python3"
  },
  "language_info": {
   "codemirror_mode": {
    "name": "ipython",
    "version": 3
   },
   "file_extension": ".py",
   "mimetype": "text/x-python",
   "name": "python",
   "nbconvert_exporter": "python",
   "pygments_lexer": "ipython3",
   "version": "3.8.3"
  }
 },
 "nbformat": 4,
 "nbformat_minor": 4
}
